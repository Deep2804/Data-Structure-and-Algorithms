{
 "cells": [
  {
   "cell_type": "code",
   "execution_count": 1,
   "id": "97fde80b",
   "metadata": {},
   "outputs": [
    {
     "name": "stdout",
     "output_type": "stream",
     "text": [
      "Hi i am Deepak\n"
     ]
    }
   ],
   "source": [
    "def myfunc():\n",
    "    print(\"Hi i am Deepak\")\n",
    "    \n",
    "    \n",
    "myfunc()    "
   ]
  },
  {
   "cell_type": "code",
   "execution_count": 2,
   "id": "8e05374f",
   "metadata": {},
   "outputs": [
    {
     "name": "stdout",
     "output_type": "stream",
     "text": [
      "17\n"
     ]
    }
   ],
   "source": [
    "def myfunc(a,b):\n",
    "    print(a+b)\n",
    "    \n",
    "    \n",
    "myfunc(10,7)    \n",
    "    "
   ]
  },
  {
   "cell_type": "code",
   "execution_count": 5,
   "id": "0cae20d7",
   "metadata": {},
   "outputs": [
    {
     "name": "stdout",
     "output_type": "stream",
     "text": [
      "17\n"
     ]
    }
   ],
   "source": [
    "def myfunc(a,b):\n",
    "    return a+b\n",
    "\n",
    "\n",
    "result=myfunc(10,7)\n",
    "print(result)"
   ]
  },
  {
   "cell_type": "code",
   "execution_count": null,
   "id": "19d5f43c",
   "metadata": {},
   "outputs": [],
   "source": [
    "def printhello():\n",
    "    print(\"Hello\")\n",
    "    \n",
    "deepak=10  "
   ]
  },
  {
   "cell_type": "code",
   "execution_count": null,
   "id": "f6ca53a5",
   "metadata": {},
   "outputs": [],
   "source": []
  }
 ],
 "metadata": {
  "kernelspec": {
   "display_name": "Python 3 (ipykernel)",
   "language": "python",
   "name": "python3"
  },
  "language_info": {
   "codemirror_mode": {
    "name": "ipython",
    "version": 3
   },
   "file_extension": ".py",
   "mimetype": "text/x-python",
   "name": "python",
   "nbconvert_exporter": "python",
   "pygments_lexer": "ipython3",
   "version": "3.9.13"
  }
 },
 "nbformat": 4,
 "nbformat_minor": 5
}
