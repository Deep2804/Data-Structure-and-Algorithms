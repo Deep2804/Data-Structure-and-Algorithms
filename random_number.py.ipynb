{
 "cells": [
  {
   "cell_type": "markdown",
   "id": "a4365b43",
   "metadata": {},
   "source": [
    "import random\n",
    "r=random.randint(1,20)\n",
    "while(True):\n",
    "    inp=int(input())\n",
    "    if(inp<r):\n",
    "        print(\"Wrong guess! try a greater number\")\n",
    "    elif(inp>r):\n",
    "        print(\"Wrong guess! try a smaller number\")\n",
    "    else:\n",
    "        print(\"Congrats! you've guess the right number\")\n",
    "        break;"
   ]
  },
  {
   "cell_type": "code",
   "execution_count": null,
   "id": "63e19b86",
   "metadata": {},
   "outputs": [],
   "source": []
  },
  {
   "cell_type": "code",
   "execution_count": null,
   "id": "e41743b5",
   "metadata": {},
   "outputs": [],
   "source": []
  }
 ],
 "metadata": {
  "kernelspec": {
   "display_name": "Python 3 (ipykernel)",
   "language": "python",
   "name": "python3"
  },
  "language_info": {
   "codemirror_mode": {
    "name": "ipython",
    "version": 3
   },
   "file_extension": ".py",
   "mimetype": "text/x-python",
   "name": "python",
   "nbconvert_exporter": "python",
   "pygments_lexer": "ipython3",
   "version": "3.9.13"
  }
 },
 "nbformat": 4,
 "nbformat_minor": 5
}
